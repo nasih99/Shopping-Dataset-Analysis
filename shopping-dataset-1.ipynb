{
 "cells": [
  {
   "cell_type": "markdown",
   "id": "4f7c289f-a229-47ce-b4f0-f6be6ed3d8c4",
   "metadata": {},
   "source": [
    "# Shopping Behaviour Data analysis "
   ]
  },
  {
   "cell_type": "markdown",
   "id": "3c332e36-efeb-4fb1-bd88-a899069885c0",
   "metadata": {},
   "source": [
    "This dataset provides detailed insights into consumer behaviour and shopping patterns across various demographics, locations, and product categories. It contains 3,900 customer records with 18 attributes that describe purchase details, shopping habits, and preferences."
   ]
  },
  {
   "cell_type": "markdown",
   "id": "f88fbe85-38e5-4653-b49d-197cfb3cc18c",
   "metadata": {},
   "source": [
    "## The dataset includes information such as:\n",
    "\n",
    "●  Customer demographics (age, gender, location)\n",
    "\n",
    "●  Product details (item purchased, category, size, color, season)\n",
    "\n",
    "●  Purchase information (amount spent in USD, payment method, shipping type)\n",
    "\n",
    "●  Shopping behaviour (frequency of purchases, previous purchases, subscription status, discount usage, promo codes)\n",
    "\n",
    "●  Customer feedback (review ratings)"
   ]
  },
  {
   "cell_type": "markdown",
   "id": "a8af4e05-a68e-429d-81e1-6e731376b027",
   "metadata": {},
   "source": [
    "Researchers, data analysts, and students can use this dataset to practice **customer segmentation, predictive modelling, recommendation systems, and market basket analysis**. It also serves as a valuable resource for learning techniques in **exploratory data analysis (EDA), machine learning, and business analytics**."
   ]
  },
  {
   "cell_type": "markdown",
   "id": "f51ae8ac-d1d5-424e-9cf5-94b92062d717",
   "metadata": {},
   "source": [
    "    "
   ]
  },
  {
   "cell_type": "markdown",
   "id": "9b59a33d-ff64-46bd-b987-f5cf6c58abd2",
   "metadata": {},
   "source": [
    "## Importing Libraries"
   ]
  },
  {
   "cell_type": "code",
   "execution_count": 1,
   "id": "7a5bce45-f8fa-43e3-971d-6bb3d9233449",
   "metadata": {},
   "outputs": [],
   "source": [
    "import numpy as np\n",
    "import pandas as pd \n",
    "import matplotlib.pyplot as plt\n",
    "import seaborn as sns"
   ]
  },
  {
   "cell_type": "markdown",
   "id": "f3564b41-cf32-40be-a56e-b9cd8bca9882",
   "metadata": {},
   "source": [
    "  "
   ]
  },
  {
   "cell_type": "markdown",
   "id": "469e8e05-a722-4a8e-91b2-c5f1adcaa46d",
   "metadata": {},
   "source": [
    "### Loading the datset"
   ]
  },
  {
   "cell_type": "code",
   "execution_count": 2,
   "id": "cb9b7f1d-ad16-4362-a1e4-44db2148a3b7",
   "metadata": {},
   "outputs": [],
   "source": [
    "df = pd.read_csv(r\"C:\\Users\\abhir\\Downloads\\shopping_behavior_updated.csv\")"
   ]
  },
  {
   "cell_type": "markdown",
   "id": "c26266ce-209f-46b2-836f-abffa322c3dd",
   "metadata": {},
   "source": [
    "## Initial overview"
   ]
  },
  {
   "cell_type": "code",
   "execution_count": 3,
   "id": "628c2776-8dac-43b1-b43f-8a5587153d11",
   "metadata": {},
   "outputs": [
    {
     "data": {
      "text/html": [
       "<div>\n",
       "<style scoped>\n",
       "    .dataframe tbody tr th:only-of-type {\n",
       "        vertical-align: middle;\n",
       "    }\n",
       "\n",
       "    .dataframe tbody tr th {\n",
       "        vertical-align: top;\n",
       "    }\n",
       "\n",
       "    .dataframe thead th {\n",
       "        text-align: right;\n",
       "    }\n",
       "</style>\n",
       "<table border=\"1\" class=\"dataframe\">\n",
       "  <thead>\n",
       "    <tr style=\"text-align: right;\">\n",
       "      <th></th>\n",
       "      <th>Customer ID</th>\n",
       "      <th>Age</th>\n",
       "      <th>Gender</th>\n",
       "      <th>Item Purchased</th>\n",
       "      <th>Category</th>\n",
       "      <th>Purchase Amount (USD)</th>\n",
       "      <th>Location</th>\n",
       "      <th>Size</th>\n",
       "      <th>Color</th>\n",
       "      <th>Season</th>\n",
       "      <th>Review Rating</th>\n",
       "      <th>Subscription Status</th>\n",
       "      <th>Shipping Type</th>\n",
       "      <th>Discount Applied</th>\n",
       "      <th>Promo Code Used</th>\n",
       "      <th>Previous Purchases</th>\n",
       "      <th>Payment Method</th>\n",
       "      <th>Frequency of Purchases</th>\n",
       "    </tr>\n",
       "  </thead>\n",
       "  <tbody>\n",
       "    <tr>\n",
       "      <th>0</th>\n",
       "      <td>1</td>\n",
       "      <td>55</td>\n",
       "      <td>Male</td>\n",
       "      <td>Blouse</td>\n",
       "      <td>Clothing</td>\n",
       "      <td>53</td>\n",
       "      <td>Kentucky</td>\n",
       "      <td>L</td>\n",
       "      <td>Gray</td>\n",
       "      <td>Winter</td>\n",
       "      <td>3.1</td>\n",
       "      <td>Yes</td>\n",
       "      <td>Express</td>\n",
       "      <td>Yes</td>\n",
       "      <td>Yes</td>\n",
       "      <td>14</td>\n",
       "      <td>Venmo</td>\n",
       "      <td>Fortnightly</td>\n",
       "    </tr>\n",
       "    <tr>\n",
       "      <th>1</th>\n",
       "      <td>2</td>\n",
       "      <td>19</td>\n",
       "      <td>Male</td>\n",
       "      <td>Sweater</td>\n",
       "      <td>Clothing</td>\n",
       "      <td>64</td>\n",
       "      <td>Maine</td>\n",
       "      <td>L</td>\n",
       "      <td>Maroon</td>\n",
       "      <td>Winter</td>\n",
       "      <td>3.1</td>\n",
       "      <td>Yes</td>\n",
       "      <td>Express</td>\n",
       "      <td>Yes</td>\n",
       "      <td>Yes</td>\n",
       "      <td>2</td>\n",
       "      <td>Cash</td>\n",
       "      <td>Fortnightly</td>\n",
       "    </tr>\n",
       "    <tr>\n",
       "      <th>2</th>\n",
       "      <td>3</td>\n",
       "      <td>50</td>\n",
       "      <td>Male</td>\n",
       "      <td>Jeans</td>\n",
       "      <td>Clothing</td>\n",
       "      <td>73</td>\n",
       "      <td>Massachusetts</td>\n",
       "      <td>S</td>\n",
       "      <td>Maroon</td>\n",
       "      <td>Spring</td>\n",
       "      <td>3.1</td>\n",
       "      <td>Yes</td>\n",
       "      <td>Free Shipping</td>\n",
       "      <td>Yes</td>\n",
       "      <td>Yes</td>\n",
       "      <td>23</td>\n",
       "      <td>Credit Card</td>\n",
       "      <td>Weekly</td>\n",
       "    </tr>\n",
       "    <tr>\n",
       "      <th>3</th>\n",
       "      <td>4</td>\n",
       "      <td>21</td>\n",
       "      <td>Male</td>\n",
       "      <td>Sandals</td>\n",
       "      <td>Footwear</td>\n",
       "      <td>90</td>\n",
       "      <td>Rhode Island</td>\n",
       "      <td>M</td>\n",
       "      <td>Maroon</td>\n",
       "      <td>Spring</td>\n",
       "      <td>3.5</td>\n",
       "      <td>Yes</td>\n",
       "      <td>Next Day Air</td>\n",
       "      <td>Yes</td>\n",
       "      <td>Yes</td>\n",
       "      <td>49</td>\n",
       "      <td>PayPal</td>\n",
       "      <td>Weekly</td>\n",
       "    </tr>\n",
       "    <tr>\n",
       "      <th>4</th>\n",
       "      <td>5</td>\n",
       "      <td>45</td>\n",
       "      <td>Male</td>\n",
       "      <td>Blouse</td>\n",
       "      <td>Clothing</td>\n",
       "      <td>49</td>\n",
       "      <td>Oregon</td>\n",
       "      <td>M</td>\n",
       "      <td>Turquoise</td>\n",
       "      <td>Spring</td>\n",
       "      <td>2.7</td>\n",
       "      <td>Yes</td>\n",
       "      <td>Free Shipping</td>\n",
       "      <td>Yes</td>\n",
       "      <td>Yes</td>\n",
       "      <td>31</td>\n",
       "      <td>PayPal</td>\n",
       "      <td>Annually</td>\n",
       "    </tr>\n",
       "  </tbody>\n",
       "</table>\n",
       "</div>"
      ],
      "text/plain": [
       "   Customer ID  Age Gender Item Purchased  Category  Purchase Amount (USD)  \\\n",
       "0            1   55   Male         Blouse  Clothing                     53   \n",
       "1            2   19   Male        Sweater  Clothing                     64   \n",
       "2            3   50   Male          Jeans  Clothing                     73   \n",
       "3            4   21   Male        Sandals  Footwear                     90   \n",
       "4            5   45   Male         Blouse  Clothing                     49   \n",
       "\n",
       "        Location Size      Color  Season  Review Rating Subscription Status  \\\n",
       "0       Kentucky    L       Gray  Winter            3.1                 Yes   \n",
       "1          Maine    L     Maroon  Winter            3.1                 Yes   \n",
       "2  Massachusetts    S     Maroon  Spring            3.1                 Yes   \n",
       "3   Rhode Island    M     Maroon  Spring            3.5                 Yes   \n",
       "4         Oregon    M  Turquoise  Spring            2.7                 Yes   \n",
       "\n",
       "   Shipping Type Discount Applied Promo Code Used  Previous Purchases  \\\n",
       "0        Express              Yes             Yes                  14   \n",
       "1        Express              Yes             Yes                   2   \n",
       "2  Free Shipping              Yes             Yes                  23   \n",
       "3   Next Day Air              Yes             Yes                  49   \n",
       "4  Free Shipping              Yes             Yes                  31   \n",
       "\n",
       "  Payment Method Frequency of Purchases  \n",
       "0          Venmo            Fortnightly  \n",
       "1           Cash            Fortnightly  \n",
       "2    Credit Card                 Weekly  \n",
       "3         PayPal                 Weekly  \n",
       "4         PayPal               Annually  "
      ]
     },
     "execution_count": 3,
     "metadata": {},
     "output_type": "execute_result"
    }
   ],
   "source": [
    "df.head()"
   ]
  },
  {
   "cell_type": "markdown",
   "id": "f3977133-0e7b-4f87-8764-8af31bf3f303",
   "metadata": {},
   "source": [
    "### Consise summery"
   ]
  },
  {
   "cell_type": "code",
   "execution_count": 4,
   "id": "068c5dcb-ce1c-4e31-9700-827d0c31ad06",
   "metadata": {},
   "outputs": [
    {
     "name": "stdout",
     "output_type": "stream",
     "text": [
      "<class 'pandas.core.frame.DataFrame'>\n",
      "RangeIndex: 3900 entries, 0 to 3899\n",
      "Data columns (total 18 columns):\n",
      " #   Column                  Non-Null Count  Dtype  \n",
      "---  ------                  --------------  -----  \n",
      " 0   Customer ID             3900 non-null   int64  \n",
      " 1   Age                     3900 non-null   int64  \n",
      " 2   Gender                  3900 non-null   object \n",
      " 3   Item Purchased          3900 non-null   object \n",
      " 4   Category                3900 non-null   object \n",
      " 5   Purchase Amount (USD)   3900 non-null   int64  \n",
      " 6   Location                3900 non-null   object \n",
      " 7   Size                    3900 non-null   object \n",
      " 8   Color                   3900 non-null   object \n",
      " 9   Season                  3900 non-null   object \n",
      " 10  Review Rating           3900 non-null   float64\n",
      " 11  Subscription Status     3900 non-null   object \n",
      " 12  Shipping Type           3900 non-null   object \n",
      " 13  Discount Applied        3900 non-null   object \n",
      " 14  Promo Code Used         3900 non-null   object \n",
      " 15  Previous Purchases      3900 non-null   int64  \n",
      " 16  Payment Method          3900 non-null   object \n",
      " 17  Frequency of Purchases  3900 non-null   object \n",
      "dtypes: float64(1), int64(4), object(13)\n",
      "memory usage: 548.6+ KB\n"
     ]
    }
   ],
   "source": [
    "df.info()"
   ]
  },
  {
   "cell_type": "markdown",
   "id": "a550525a-c12d-44c3-a91d-2dbcd4591e04",
   "metadata": {},
   "source": [
    "      "
   ]
  },
  {
   "cell_type": "markdown",
   "id": "6deaa78b-a57a-49ea-a321-b2a192906691",
   "metadata": {},
   "source": [
    "### Statistical summary for numerical columns"
   ]
  },
  {
   "cell_type": "code",
   "execution_count": 5,
   "id": "1fc4af1b-a200-42f0-9c3b-421bb0213b7a",
   "metadata": {},
   "outputs": [
    {
     "data": {
      "text/html": [
       "<div>\n",
       "<style scoped>\n",
       "    .dataframe tbody tr th:only-of-type {\n",
       "        vertical-align: middle;\n",
       "    }\n",
       "\n",
       "    .dataframe tbody tr th {\n",
       "        vertical-align: top;\n",
       "    }\n",
       "\n",
       "    .dataframe thead th {\n",
       "        text-align: right;\n",
       "    }\n",
       "</style>\n",
       "<table border=\"1\" class=\"dataframe\">\n",
       "  <thead>\n",
       "    <tr style=\"text-align: right;\">\n",
       "      <th></th>\n",
       "      <th>Customer ID</th>\n",
       "      <th>Age</th>\n",
       "      <th>Purchase Amount (USD)</th>\n",
       "      <th>Review Rating</th>\n",
       "      <th>Previous Purchases</th>\n",
       "    </tr>\n",
       "  </thead>\n",
       "  <tbody>\n",
       "    <tr>\n",
       "      <th>count</th>\n",
       "      <td>3900.000000</td>\n",
       "      <td>3900.000000</td>\n",
       "      <td>3900.000000</td>\n",
       "      <td>3900.000000</td>\n",
       "      <td>3900.000000</td>\n",
       "    </tr>\n",
       "    <tr>\n",
       "      <th>mean</th>\n",
       "      <td>1950.500000</td>\n",
       "      <td>44.068462</td>\n",
       "      <td>59.764359</td>\n",
       "      <td>3.749949</td>\n",
       "      <td>25.351538</td>\n",
       "    </tr>\n",
       "    <tr>\n",
       "      <th>std</th>\n",
       "      <td>1125.977353</td>\n",
       "      <td>15.207589</td>\n",
       "      <td>23.685392</td>\n",
       "      <td>0.716223</td>\n",
       "      <td>14.447125</td>\n",
       "    </tr>\n",
       "    <tr>\n",
       "      <th>min</th>\n",
       "      <td>1.000000</td>\n",
       "      <td>18.000000</td>\n",
       "      <td>20.000000</td>\n",
       "      <td>2.500000</td>\n",
       "      <td>1.000000</td>\n",
       "    </tr>\n",
       "    <tr>\n",
       "      <th>25%</th>\n",
       "      <td>975.750000</td>\n",
       "      <td>31.000000</td>\n",
       "      <td>39.000000</td>\n",
       "      <td>3.100000</td>\n",
       "      <td>13.000000</td>\n",
       "    </tr>\n",
       "    <tr>\n",
       "      <th>50%</th>\n",
       "      <td>1950.500000</td>\n",
       "      <td>44.000000</td>\n",
       "      <td>60.000000</td>\n",
       "      <td>3.700000</td>\n",
       "      <td>25.000000</td>\n",
       "    </tr>\n",
       "    <tr>\n",
       "      <th>75%</th>\n",
       "      <td>2925.250000</td>\n",
       "      <td>57.000000</td>\n",
       "      <td>81.000000</td>\n",
       "      <td>4.400000</td>\n",
       "      <td>38.000000</td>\n",
       "    </tr>\n",
       "    <tr>\n",
       "      <th>max</th>\n",
       "      <td>3900.000000</td>\n",
       "      <td>70.000000</td>\n",
       "      <td>100.000000</td>\n",
       "      <td>5.000000</td>\n",
       "      <td>50.000000</td>\n",
       "    </tr>\n",
       "  </tbody>\n",
       "</table>\n",
       "</div>"
      ],
      "text/plain": [
       "       Customer ID          Age  Purchase Amount (USD)  Review Rating  \\\n",
       "count  3900.000000  3900.000000            3900.000000    3900.000000   \n",
       "mean   1950.500000    44.068462              59.764359       3.749949   \n",
       "std    1125.977353    15.207589              23.685392       0.716223   \n",
       "min       1.000000    18.000000              20.000000       2.500000   \n",
       "25%     975.750000    31.000000              39.000000       3.100000   \n",
       "50%    1950.500000    44.000000              60.000000       3.700000   \n",
       "75%    2925.250000    57.000000              81.000000       4.400000   \n",
       "max    3900.000000    70.000000             100.000000       5.000000   \n",
       "\n",
       "       Previous Purchases  \n",
       "count         3900.000000  \n",
       "mean            25.351538  \n",
       "std             14.447125  \n",
       "min              1.000000  \n",
       "25%             13.000000  \n",
       "50%             25.000000  \n",
       "75%             38.000000  \n",
       "max             50.000000  "
      ]
     },
     "execution_count": 5,
     "metadata": {},
     "output_type": "execute_result"
    }
   ],
   "source": [
    "df.describe()"
   ]
  },
  {
   "cell_type": "markdown",
   "id": "45d1ecd8-facc-4e8f-bc62-5aa7c98c91c8",
   "metadata": {},
   "source": [
    "### Check data types of all columns "
   ]
  },
  {
   "cell_type": "code",
   "execution_count": 6,
   "id": "6e62d0b7-29c5-4016-bd88-c07485ad47c7",
   "metadata": {},
   "outputs": [
    {
     "data": {
      "text/plain": [
       "Customer ID                 int64\n",
       "Age                         int64\n",
       "Gender                     object\n",
       "Item Purchased             object\n",
       "Category                   object\n",
       "Purchase Amount (USD)       int64\n",
       "Location                   object\n",
       "Size                       object\n",
       "Color                      object\n",
       "Season                     object\n",
       "Review Rating             float64\n",
       "Subscription Status        object\n",
       "Shipping Type              object\n",
       "Discount Applied           object\n",
       "Promo Code Used            object\n",
       "Previous Purchases          int64\n",
       "Payment Method             object\n",
       "Frequency of Purchases     object\n",
       "dtype: object"
      ]
     },
     "execution_count": 6,
     "metadata": {},
     "output_type": "execute_result"
    }
   ],
   "source": [
    "df.dtypes"
   ]
  },
  {
   "cell_type": "markdown",
   "id": "a1711e1e-cd1e-45db-9990-45bead29238e",
   "metadata": {},
   "source": [
    "### Number of rows and columns"
   ]
  },
  {
   "cell_type": "code",
   "execution_count": 7,
   "id": "c8b8fbc7-74d6-4e4d-978c-6fe6de924af3",
   "metadata": {},
   "outputs": [
    {
     "data": {
      "text/plain": [
       "(3900, 18)"
      ]
     },
     "execution_count": 7,
     "metadata": {},
     "output_type": "execute_result"
    }
   ],
   "source": [
    "df.shape"
   ]
  },
  {
   "cell_type": "markdown",
   "id": "b88192d3-ec3c-4791-b247-030da934f478",
   "metadata": {},
   "source": [
    "### The count of missing values in each column"
   ]
  },
  {
   "cell_type": "code",
   "execution_count": 8,
   "id": "a89bd5fa-0390-47aa-8dfb-7b1801a6a889",
   "metadata": {},
   "outputs": [
    {
     "data": {
      "text/plain": [
       "Customer ID               0\n",
       "Age                       0\n",
       "Gender                    0\n",
       "Item Purchased            0\n",
       "Category                  0\n",
       "Purchase Amount (USD)     0\n",
       "Location                  0\n",
       "Size                      0\n",
       "Color                     0\n",
       "Season                    0\n",
       "Review Rating             0\n",
       "Subscription Status       0\n",
       "Shipping Type             0\n",
       "Discount Applied          0\n",
       "Promo Code Used           0\n",
       "Previous Purchases        0\n",
       "Payment Method            0\n",
       "Frequency of Purchases    0\n",
       "dtype: int64"
      ]
     },
     "execution_count": 8,
     "metadata": {},
     "output_type": "execute_result"
    }
   ],
   "source": [
    "df.isnull().sum()"
   ]
  },
  {
   "cell_type": "markdown",
   "id": "cf50981b-e5af-4b9e-bf70-f59290e4f0f0",
   "metadata": {},
   "source": [
    "### Number of unique values per column"
   ]
  },
  {
   "cell_type": "code",
   "execution_count": 9,
   "id": "57494331-6457-4b1f-9bc9-8bed29b5ffeb",
   "metadata": {},
   "outputs": [
    {
     "data": {
      "text/plain": [
       "Customer ID               3900\n",
       "Age                         53\n",
       "Gender                       2\n",
       "Item Purchased              25\n",
       "Category                     4\n",
       "Purchase Amount (USD)       81\n",
       "Location                    50\n",
       "Size                         4\n",
       "Color                       25\n",
       "Season                       4\n",
       "Review Rating               26\n",
       "Subscription Status          2\n",
       "Shipping Type                6\n",
       "Discount Applied             2\n",
       "Promo Code Used              2\n",
       "Previous Purchases          50\n",
       "Payment Method               6\n",
       "Frequency of Purchases       7\n",
       "dtype: int64"
      ]
     },
     "execution_count": 9,
     "metadata": {},
     "output_type": "execute_result"
    }
   ],
   "source": [
    "df.nunique()"
   ]
  },
  {
   "cell_type": "markdown",
   "id": "b11d4cef-a81d-4c38-bdaa-c1ef3281953a",
   "metadata": {},
   "source": [
    "   "
   ]
  },
  {
   "cell_type": "markdown",
   "id": "59ccf6a2-a339-43d2-bc5f-69c295f57ba5",
   "metadata": {},
   "source": [
    "## Data cleaning and preprocessing"
   ]
  },
  {
   "cell_type": "markdown",
   "id": "73787c65-b8b8-4c9b-88f8-ce1941cb839d",
   "metadata": {},
   "source": [
    "### checking for duplicated value"
   ]
  },
  {
   "cell_type": "code",
   "execution_count": 10,
   "id": "28efc785-cb74-4e62-ba12-6938becb2d74",
   "metadata": {},
   "outputs": [
    {
     "data": {
      "text/plain": [
       "np.int64(0)"
      ]
     },
     "execution_count": 10,
     "metadata": {},
     "output_type": "execute_result"
    }
   ],
   "source": [
    "df.duplicated().sum()"
   ]
  },
  {
   "cell_type": "markdown",
   "id": "f22ea543-fad8-4437-8b30-b0012356ff25",
   "metadata": {},
   "source": [
    "### Convert Subscription Status and Discount to category/boolean"
   ]
  },
  {
   "cell_type": "markdown",
   "id": "996d07ca-5352-4351-966d-24563777a6cd",
   "metadata": {},
   "source": [
    "Type Conversions: We ensure categorical columns use consistent types. For example, convert Subscription Status from \"Yes\"/\"No\" to boolean or category. We also confirm numeric fields are numeric."
   ]
  },
  {
   "cell_type": "code",
   "execution_count": 11,
   "id": "e6915119-6fc7-4150-a11c-ba776534770d",
   "metadata": {},
   "outputs": [],
   "source": [
    "df['Subscription Status'] = df['Subscription Status'].astype('category')\n",
    "df['Discount Applied'] = df['Discount Applied'].astype('bool')"
   ]
  },
  {
   "cell_type": "markdown",
   "id": "ae789193-1e32-4906-a79e-065c0aaed9e9",
   "metadata": {},
   "source": [
    "### Drop one of Promo Code Used or Discount as they are redundant\n",
    "Redundant Columns: We note that “Promo Code Used” is perfectly correlated with “Discount Applied” (all entries where discount=yes also have a promo code). We dropped “Promo Code Used” above to avoid duplication."
   ]
  },
  {
   "cell_type": "code",
   "execution_count": 12,
   "id": "828bec83-f21e-416f-8caf-d5e366e98d58",
   "metadata": {},
   "outputs": [],
   "source": [
    "df= df.drop(columns= ['Promo Code Used'])"
   ]
  },
  {
   "cell_type": "markdown",
   "id": "8ff799d0-95c7-4882-9e3c-f7a11e4e0c7c",
   "metadata": {},
   "source": [
    "   "
   ]
  },
  {
   "cell_type": "markdown",
   "id": "a69d7f60-5669-4c81-96b1-b87736ac4b0b",
   "metadata": {},
   "source": [
    "#### Frequency of Purchases: Some synonyms exist – e.g., “Fortnightly” vs “Bi-Weekly” (both mean every 2 weeks), and “Quarterly” vs “Every 3 Months”. We unify these."
   ]
  },
  {
   "cell_type": "code",
   "execution_count": 13,
   "id": "ae2a7386-0a2f-43f8-9ff1-acf7a725d373",
   "metadata": {},
   "outputs": [],
   "source": [
    "freq_map = {'Fortnightly': 'Bi-Weekly',\n",
    "           'Every 3 Months':'Quarterly'}\n",
    "\n",
    "df['Frequency of Purchases']= df['Frequency of Purchases'].replace(freq_map)"
   ]
  },
  {
   "cell_type": "code",
   "execution_count": 14,
   "id": "c4dc3d64-7069-4549-ac35-90a65fdfb568",
   "metadata": {},
   "outputs": [
    {
     "data": {
      "text/html": [
       "<div>\n",
       "<style scoped>\n",
       "    .dataframe tbody tr th:only-of-type {\n",
       "        vertical-align: middle;\n",
       "    }\n",
       "\n",
       "    .dataframe tbody tr th {\n",
       "        vertical-align: top;\n",
       "    }\n",
       "\n",
       "    .dataframe thead th {\n",
       "        text-align: right;\n",
       "    }\n",
       "</style>\n",
       "<table border=\"1\" class=\"dataframe\">\n",
       "  <thead>\n",
       "    <tr style=\"text-align: right;\">\n",
       "      <th></th>\n",
       "      <th>Customer ID</th>\n",
       "      <th>Age</th>\n",
       "      <th>Gender</th>\n",
       "      <th>Item Purchased</th>\n",
       "      <th>Category</th>\n",
       "      <th>Purchase Amount (USD)</th>\n",
       "      <th>Location</th>\n",
       "      <th>Size</th>\n",
       "      <th>Color</th>\n",
       "      <th>Season</th>\n",
       "      <th>Review Rating</th>\n",
       "      <th>Subscription Status</th>\n",
       "      <th>Shipping Type</th>\n",
       "      <th>Discount Applied</th>\n",
       "      <th>Previous Purchases</th>\n",
       "      <th>Payment Method</th>\n",
       "      <th>Frequency of Purchases</th>\n",
       "    </tr>\n",
       "  </thead>\n",
       "  <tbody>\n",
       "    <tr>\n",
       "      <th>0</th>\n",
       "      <td>1</td>\n",
       "      <td>55</td>\n",
       "      <td>Male</td>\n",
       "      <td>Blouse</td>\n",
       "      <td>Clothing</td>\n",
       "      <td>53</td>\n",
       "      <td>Kentucky</td>\n",
       "      <td>L</td>\n",
       "      <td>Gray</td>\n",
       "      <td>Winter</td>\n",
       "      <td>3.1</td>\n",
       "      <td>Yes</td>\n",
       "      <td>Express</td>\n",
       "      <td>True</td>\n",
       "      <td>14</td>\n",
       "      <td>Venmo</td>\n",
       "      <td>Bi-Weekly</td>\n",
       "    </tr>\n",
       "    <tr>\n",
       "      <th>1</th>\n",
       "      <td>2</td>\n",
       "      <td>19</td>\n",
       "      <td>Male</td>\n",
       "      <td>Sweater</td>\n",
       "      <td>Clothing</td>\n",
       "      <td>64</td>\n",
       "      <td>Maine</td>\n",
       "      <td>L</td>\n",
       "      <td>Maroon</td>\n",
       "      <td>Winter</td>\n",
       "      <td>3.1</td>\n",
       "      <td>Yes</td>\n",
       "      <td>Express</td>\n",
       "      <td>True</td>\n",
       "      <td>2</td>\n",
       "      <td>Cash</td>\n",
       "      <td>Bi-Weekly</td>\n",
       "    </tr>\n",
       "    <tr>\n",
       "      <th>2</th>\n",
       "      <td>3</td>\n",
       "      <td>50</td>\n",
       "      <td>Male</td>\n",
       "      <td>Jeans</td>\n",
       "      <td>Clothing</td>\n",
       "      <td>73</td>\n",
       "      <td>Massachusetts</td>\n",
       "      <td>S</td>\n",
       "      <td>Maroon</td>\n",
       "      <td>Spring</td>\n",
       "      <td>3.1</td>\n",
       "      <td>Yes</td>\n",
       "      <td>Free Shipping</td>\n",
       "      <td>True</td>\n",
       "      <td>23</td>\n",
       "      <td>Credit Card</td>\n",
       "      <td>Weekly</td>\n",
       "    </tr>\n",
       "    <tr>\n",
       "      <th>3</th>\n",
       "      <td>4</td>\n",
       "      <td>21</td>\n",
       "      <td>Male</td>\n",
       "      <td>Sandals</td>\n",
       "      <td>Footwear</td>\n",
       "      <td>90</td>\n",
       "      <td>Rhode Island</td>\n",
       "      <td>M</td>\n",
       "      <td>Maroon</td>\n",
       "      <td>Spring</td>\n",
       "      <td>3.5</td>\n",
       "      <td>Yes</td>\n",
       "      <td>Next Day Air</td>\n",
       "      <td>True</td>\n",
       "      <td>49</td>\n",
       "      <td>PayPal</td>\n",
       "      <td>Weekly</td>\n",
       "    </tr>\n",
       "    <tr>\n",
       "      <th>4</th>\n",
       "      <td>5</td>\n",
       "      <td>45</td>\n",
       "      <td>Male</td>\n",
       "      <td>Blouse</td>\n",
       "      <td>Clothing</td>\n",
       "      <td>49</td>\n",
       "      <td>Oregon</td>\n",
       "      <td>M</td>\n",
       "      <td>Turquoise</td>\n",
       "      <td>Spring</td>\n",
       "      <td>2.7</td>\n",
       "      <td>Yes</td>\n",
       "      <td>Free Shipping</td>\n",
       "      <td>True</td>\n",
       "      <td>31</td>\n",
       "      <td>PayPal</td>\n",
       "      <td>Annually</td>\n",
       "    </tr>\n",
       "    <tr>\n",
       "      <th>...</th>\n",
       "      <td>...</td>\n",
       "      <td>...</td>\n",
       "      <td>...</td>\n",
       "      <td>...</td>\n",
       "      <td>...</td>\n",
       "      <td>...</td>\n",
       "      <td>...</td>\n",
       "      <td>...</td>\n",
       "      <td>...</td>\n",
       "      <td>...</td>\n",
       "      <td>...</td>\n",
       "      <td>...</td>\n",
       "      <td>...</td>\n",
       "      <td>...</td>\n",
       "      <td>...</td>\n",
       "      <td>...</td>\n",
       "      <td>...</td>\n",
       "    </tr>\n",
       "    <tr>\n",
       "      <th>3895</th>\n",
       "      <td>3896</td>\n",
       "      <td>40</td>\n",
       "      <td>Female</td>\n",
       "      <td>Hoodie</td>\n",
       "      <td>Clothing</td>\n",
       "      <td>28</td>\n",
       "      <td>Virginia</td>\n",
       "      <td>L</td>\n",
       "      <td>Turquoise</td>\n",
       "      <td>Summer</td>\n",
       "      <td>4.2</td>\n",
       "      <td>No</td>\n",
       "      <td>2-Day Shipping</td>\n",
       "      <td>True</td>\n",
       "      <td>32</td>\n",
       "      <td>Venmo</td>\n",
       "      <td>Weekly</td>\n",
       "    </tr>\n",
       "    <tr>\n",
       "      <th>3896</th>\n",
       "      <td>3897</td>\n",
       "      <td>52</td>\n",
       "      <td>Female</td>\n",
       "      <td>Backpack</td>\n",
       "      <td>Accessories</td>\n",
       "      <td>49</td>\n",
       "      <td>Iowa</td>\n",
       "      <td>L</td>\n",
       "      <td>White</td>\n",
       "      <td>Spring</td>\n",
       "      <td>4.5</td>\n",
       "      <td>No</td>\n",
       "      <td>Store Pickup</td>\n",
       "      <td>True</td>\n",
       "      <td>41</td>\n",
       "      <td>Bank Transfer</td>\n",
       "      <td>Bi-Weekly</td>\n",
       "    </tr>\n",
       "    <tr>\n",
       "      <th>3897</th>\n",
       "      <td>3898</td>\n",
       "      <td>46</td>\n",
       "      <td>Female</td>\n",
       "      <td>Belt</td>\n",
       "      <td>Accessories</td>\n",
       "      <td>33</td>\n",
       "      <td>New Jersey</td>\n",
       "      <td>L</td>\n",
       "      <td>Green</td>\n",
       "      <td>Spring</td>\n",
       "      <td>2.9</td>\n",
       "      <td>No</td>\n",
       "      <td>Standard</td>\n",
       "      <td>True</td>\n",
       "      <td>24</td>\n",
       "      <td>Venmo</td>\n",
       "      <td>Quarterly</td>\n",
       "    </tr>\n",
       "    <tr>\n",
       "      <th>3898</th>\n",
       "      <td>3899</td>\n",
       "      <td>44</td>\n",
       "      <td>Female</td>\n",
       "      <td>Shoes</td>\n",
       "      <td>Footwear</td>\n",
       "      <td>77</td>\n",
       "      <td>Minnesota</td>\n",
       "      <td>S</td>\n",
       "      <td>Brown</td>\n",
       "      <td>Summer</td>\n",
       "      <td>3.8</td>\n",
       "      <td>No</td>\n",
       "      <td>Express</td>\n",
       "      <td>True</td>\n",
       "      <td>24</td>\n",
       "      <td>Venmo</td>\n",
       "      <td>Weekly</td>\n",
       "    </tr>\n",
       "    <tr>\n",
       "      <th>3899</th>\n",
       "      <td>3900</td>\n",
       "      <td>52</td>\n",
       "      <td>Female</td>\n",
       "      <td>Handbag</td>\n",
       "      <td>Accessories</td>\n",
       "      <td>81</td>\n",
       "      <td>California</td>\n",
       "      <td>M</td>\n",
       "      <td>Beige</td>\n",
       "      <td>Spring</td>\n",
       "      <td>3.1</td>\n",
       "      <td>No</td>\n",
       "      <td>Store Pickup</td>\n",
       "      <td>True</td>\n",
       "      <td>33</td>\n",
       "      <td>Venmo</td>\n",
       "      <td>Quarterly</td>\n",
       "    </tr>\n",
       "  </tbody>\n",
       "</table>\n",
       "<p>3900 rows × 17 columns</p>\n",
       "</div>"
      ],
      "text/plain": [
       "      Customer ID  Age  Gender Item Purchased     Category  \\\n",
       "0               1   55    Male         Blouse     Clothing   \n",
       "1               2   19    Male        Sweater     Clothing   \n",
       "2               3   50    Male          Jeans     Clothing   \n",
       "3               4   21    Male        Sandals     Footwear   \n",
       "4               5   45    Male         Blouse     Clothing   \n",
       "...           ...  ...     ...            ...          ...   \n",
       "3895         3896   40  Female         Hoodie     Clothing   \n",
       "3896         3897   52  Female       Backpack  Accessories   \n",
       "3897         3898   46  Female           Belt  Accessories   \n",
       "3898         3899   44  Female          Shoes     Footwear   \n",
       "3899         3900   52  Female        Handbag  Accessories   \n",
       "\n",
       "      Purchase Amount (USD)       Location Size      Color  Season  \\\n",
       "0                        53       Kentucky    L       Gray  Winter   \n",
       "1                        64          Maine    L     Maroon  Winter   \n",
       "2                        73  Massachusetts    S     Maroon  Spring   \n",
       "3                        90   Rhode Island    M     Maroon  Spring   \n",
       "4                        49         Oregon    M  Turquoise  Spring   \n",
       "...                     ...            ...  ...        ...     ...   \n",
       "3895                     28       Virginia    L  Turquoise  Summer   \n",
       "3896                     49           Iowa    L      White  Spring   \n",
       "3897                     33     New Jersey    L      Green  Spring   \n",
       "3898                     77      Minnesota    S      Brown  Summer   \n",
       "3899                     81     California    M      Beige  Spring   \n",
       "\n",
       "      Review Rating Subscription Status   Shipping Type  Discount Applied  \\\n",
       "0               3.1                 Yes         Express              True   \n",
       "1               3.1                 Yes         Express              True   \n",
       "2               3.1                 Yes   Free Shipping              True   \n",
       "3               3.5                 Yes    Next Day Air              True   \n",
       "4               2.7                 Yes   Free Shipping              True   \n",
       "...             ...                 ...             ...               ...   \n",
       "3895            4.2                  No  2-Day Shipping              True   \n",
       "3896            4.5                  No    Store Pickup              True   \n",
       "3897            2.9                  No        Standard              True   \n",
       "3898            3.8                  No         Express              True   \n",
       "3899            3.1                  No    Store Pickup              True   \n",
       "\n",
       "      Previous Purchases Payment Method Frequency of Purchases  \n",
       "0                     14          Venmo              Bi-Weekly  \n",
       "1                      2           Cash              Bi-Weekly  \n",
       "2                     23    Credit Card                 Weekly  \n",
       "3                     49         PayPal                 Weekly  \n",
       "4                     31         PayPal               Annually  \n",
       "...                  ...            ...                    ...  \n",
       "3895                  32          Venmo                 Weekly  \n",
       "3896                  41  Bank Transfer              Bi-Weekly  \n",
       "3897                  24          Venmo              Quarterly  \n",
       "3898                  24          Venmo                 Weekly  \n",
       "3899                  33          Venmo              Quarterly  \n",
       "\n",
       "[3900 rows x 17 columns]"
      ]
     },
     "execution_count": 14,
     "metadata": {},
     "output_type": "execute_result"
    }
   ],
   "source": [
    "df"
   ]
  },
  {
   "cell_type": "markdown",
   "id": "fdef7476-bca5-4e15-82e9-841e8b8daa68",
   "metadata": {},
   "source": [
    "   "
   ]
  },
  {
   "cell_type": "markdown",
   "id": "e3886ca7-6097-4936-9915-8bf41241f3ab",
   "metadata": {},
   "source": [
    "### Age Group Segmentatiom"
   ]
  },
  {
   "cell_type": "markdown",
   "id": "d0c3954b-8121-4130-9996-aade846a3ad3",
   "metadata": {},
   "source": [
    "Age Group: Segment ages into bins. Commonly, customers are grouped by age (a form of customer segmentation)\n",
    ". We define age brackets and label them (e.g. “18-25”, “26-35”, etc.):"
   ]
  },
  {
   "cell_type": "code",
   "execution_count": 15,
   "id": "c4521273-5562-4c28-bc24-7e298f9a6bd6",
   "metadata": {},
   "outputs": [
    {
     "data": {
      "text/plain": [
       "Age Group\n",
       "18-25    571\n",
       "26-35    742\n",
       "36-45    729\n",
       "46-55    753\n",
       "56-65    750\n",
       "66+      355\n",
       "Name: count, dtype: int64"
      ]
     },
     "execution_count": 15,
     "metadata": {},
     "output_type": "execute_result"
    }
   ],
   "source": [
    "bins = [17, 25, 35, 45, 55, 65, 100]\n",
    "labels= ['18-25','26-35','36-45','46-55','56-65','66+']\n",
    "df['Age Group']= pd.cut(df['Age'], bins= bins, labels= labels, include_lowest= True)\n",
    "df['Age Group'].value_counts().sort_index()"
   ]
  },
  {
   "cell_type": "markdown",
   "id": "eb66b6e6-2dc5-4ccb-b6fc-747a36bbe378",
   "metadata": {},
   "source": [
    "   "
   ]
  },
  {
   "cell_type": "code",
   "execution_count": 16,
   "id": "c89f920a-8059-4ea7-bf2d-be078629965a",
   "metadata": {},
   "outputs": [
    {
     "data": {
      "text/html": [
       "<div>\n",
       "<style scoped>\n",
       "    .dataframe tbody tr th:only-of-type {\n",
       "        vertical-align: middle;\n",
       "    }\n",
       "\n",
       "    .dataframe tbody tr th {\n",
       "        vertical-align: top;\n",
       "    }\n",
       "\n",
       "    .dataframe thead th {\n",
       "        text-align: right;\n",
       "    }\n",
       "</style>\n",
       "<table border=\"1\" class=\"dataframe\">\n",
       "  <thead>\n",
       "    <tr style=\"text-align: right;\">\n",
       "      <th></th>\n",
       "      <th>Customer ID</th>\n",
       "      <th>Age</th>\n",
       "      <th>Gender</th>\n",
       "      <th>Item Purchased</th>\n",
       "      <th>Category</th>\n",
       "      <th>Purchase Amount (USD)</th>\n",
       "      <th>Location</th>\n",
       "      <th>Size</th>\n",
       "      <th>Color</th>\n",
       "      <th>Season</th>\n",
       "      <th>Review Rating</th>\n",
       "      <th>Subscription Status</th>\n",
       "      <th>Shipping Type</th>\n",
       "      <th>Discount Applied</th>\n",
       "      <th>Previous Purchases</th>\n",
       "      <th>Payment Method</th>\n",
       "      <th>Frequency of Purchases</th>\n",
       "      <th>Age Group</th>\n",
       "    </tr>\n",
       "  </thead>\n",
       "  <tbody>\n",
       "    <tr>\n",
       "      <th>0</th>\n",
       "      <td>1</td>\n",
       "      <td>55</td>\n",
       "      <td>Male</td>\n",
       "      <td>Blouse</td>\n",
       "      <td>Clothing</td>\n",
       "      <td>53</td>\n",
       "      <td>Kentucky</td>\n",
       "      <td>L</td>\n",
       "      <td>Gray</td>\n",
       "      <td>Winter</td>\n",
       "      <td>3.1</td>\n",
       "      <td>Yes</td>\n",
       "      <td>Express</td>\n",
       "      <td>True</td>\n",
       "      <td>14</td>\n",
       "      <td>Venmo</td>\n",
       "      <td>Bi-Weekly</td>\n",
       "      <td>46-55</td>\n",
       "    </tr>\n",
       "    <tr>\n",
       "      <th>1</th>\n",
       "      <td>2</td>\n",
       "      <td>19</td>\n",
       "      <td>Male</td>\n",
       "      <td>Sweater</td>\n",
       "      <td>Clothing</td>\n",
       "      <td>64</td>\n",
       "      <td>Maine</td>\n",
       "      <td>L</td>\n",
       "      <td>Maroon</td>\n",
       "      <td>Winter</td>\n",
       "      <td>3.1</td>\n",
       "      <td>Yes</td>\n",
       "      <td>Express</td>\n",
       "      <td>True</td>\n",
       "      <td>2</td>\n",
       "      <td>Cash</td>\n",
       "      <td>Bi-Weekly</td>\n",
       "      <td>18-25</td>\n",
       "    </tr>\n",
       "    <tr>\n",
       "      <th>2</th>\n",
       "      <td>3</td>\n",
       "      <td>50</td>\n",
       "      <td>Male</td>\n",
       "      <td>Jeans</td>\n",
       "      <td>Clothing</td>\n",
       "      <td>73</td>\n",
       "      <td>Massachusetts</td>\n",
       "      <td>S</td>\n",
       "      <td>Maroon</td>\n",
       "      <td>Spring</td>\n",
       "      <td>3.1</td>\n",
       "      <td>Yes</td>\n",
       "      <td>Free Shipping</td>\n",
       "      <td>True</td>\n",
       "      <td>23</td>\n",
       "      <td>Credit Card</td>\n",
       "      <td>Weekly</td>\n",
       "      <td>46-55</td>\n",
       "    </tr>\n",
       "    <tr>\n",
       "      <th>3</th>\n",
       "      <td>4</td>\n",
       "      <td>21</td>\n",
       "      <td>Male</td>\n",
       "      <td>Sandals</td>\n",
       "      <td>Footwear</td>\n",
       "      <td>90</td>\n",
       "      <td>Rhode Island</td>\n",
       "      <td>M</td>\n",
       "      <td>Maroon</td>\n",
       "      <td>Spring</td>\n",
       "      <td>3.5</td>\n",
       "      <td>Yes</td>\n",
       "      <td>Next Day Air</td>\n",
       "      <td>True</td>\n",
       "      <td>49</td>\n",
       "      <td>PayPal</td>\n",
       "      <td>Weekly</td>\n",
       "      <td>18-25</td>\n",
       "    </tr>\n",
       "    <tr>\n",
       "      <th>4</th>\n",
       "      <td>5</td>\n",
       "      <td>45</td>\n",
       "      <td>Male</td>\n",
       "      <td>Blouse</td>\n",
       "      <td>Clothing</td>\n",
       "      <td>49</td>\n",
       "      <td>Oregon</td>\n",
       "      <td>M</td>\n",
       "      <td>Turquoise</td>\n",
       "      <td>Spring</td>\n",
       "      <td>2.7</td>\n",
       "      <td>Yes</td>\n",
       "      <td>Free Shipping</td>\n",
       "      <td>True</td>\n",
       "      <td>31</td>\n",
       "      <td>PayPal</td>\n",
       "      <td>Annually</td>\n",
       "      <td>36-45</td>\n",
       "    </tr>\n",
       "    <tr>\n",
       "      <th>...</th>\n",
       "      <td>...</td>\n",
       "      <td>...</td>\n",
       "      <td>...</td>\n",
       "      <td>...</td>\n",
       "      <td>...</td>\n",
       "      <td>...</td>\n",
       "      <td>...</td>\n",
       "      <td>...</td>\n",
       "      <td>...</td>\n",
       "      <td>...</td>\n",
       "      <td>...</td>\n",
       "      <td>...</td>\n",
       "      <td>...</td>\n",
       "      <td>...</td>\n",
       "      <td>...</td>\n",
       "      <td>...</td>\n",
       "      <td>...</td>\n",
       "      <td>...</td>\n",
       "    </tr>\n",
       "    <tr>\n",
       "      <th>3895</th>\n",
       "      <td>3896</td>\n",
       "      <td>40</td>\n",
       "      <td>Female</td>\n",
       "      <td>Hoodie</td>\n",
       "      <td>Clothing</td>\n",
       "      <td>28</td>\n",
       "      <td>Virginia</td>\n",
       "      <td>L</td>\n",
       "      <td>Turquoise</td>\n",
       "      <td>Summer</td>\n",
       "      <td>4.2</td>\n",
       "      <td>No</td>\n",
       "      <td>2-Day Shipping</td>\n",
       "      <td>True</td>\n",
       "      <td>32</td>\n",
       "      <td>Venmo</td>\n",
       "      <td>Weekly</td>\n",
       "      <td>36-45</td>\n",
       "    </tr>\n",
       "    <tr>\n",
       "      <th>3896</th>\n",
       "      <td>3897</td>\n",
       "      <td>52</td>\n",
       "      <td>Female</td>\n",
       "      <td>Backpack</td>\n",
       "      <td>Accessories</td>\n",
       "      <td>49</td>\n",
       "      <td>Iowa</td>\n",
       "      <td>L</td>\n",
       "      <td>White</td>\n",
       "      <td>Spring</td>\n",
       "      <td>4.5</td>\n",
       "      <td>No</td>\n",
       "      <td>Store Pickup</td>\n",
       "      <td>True</td>\n",
       "      <td>41</td>\n",
       "      <td>Bank Transfer</td>\n",
       "      <td>Bi-Weekly</td>\n",
       "      <td>46-55</td>\n",
       "    </tr>\n",
       "    <tr>\n",
       "      <th>3897</th>\n",
       "      <td>3898</td>\n",
       "      <td>46</td>\n",
       "      <td>Female</td>\n",
       "      <td>Belt</td>\n",
       "      <td>Accessories</td>\n",
       "      <td>33</td>\n",
       "      <td>New Jersey</td>\n",
       "      <td>L</td>\n",
       "      <td>Green</td>\n",
       "      <td>Spring</td>\n",
       "      <td>2.9</td>\n",
       "      <td>No</td>\n",
       "      <td>Standard</td>\n",
       "      <td>True</td>\n",
       "      <td>24</td>\n",
       "      <td>Venmo</td>\n",
       "      <td>Quarterly</td>\n",
       "      <td>46-55</td>\n",
       "    </tr>\n",
       "    <tr>\n",
       "      <th>3898</th>\n",
       "      <td>3899</td>\n",
       "      <td>44</td>\n",
       "      <td>Female</td>\n",
       "      <td>Shoes</td>\n",
       "      <td>Footwear</td>\n",
       "      <td>77</td>\n",
       "      <td>Minnesota</td>\n",
       "      <td>S</td>\n",
       "      <td>Brown</td>\n",
       "      <td>Summer</td>\n",
       "      <td>3.8</td>\n",
       "      <td>No</td>\n",
       "      <td>Express</td>\n",
       "      <td>True</td>\n",
       "      <td>24</td>\n",
       "      <td>Venmo</td>\n",
       "      <td>Weekly</td>\n",
       "      <td>36-45</td>\n",
       "    </tr>\n",
       "    <tr>\n",
       "      <th>3899</th>\n",
       "      <td>3900</td>\n",
       "      <td>52</td>\n",
       "      <td>Female</td>\n",
       "      <td>Handbag</td>\n",
       "      <td>Accessories</td>\n",
       "      <td>81</td>\n",
       "      <td>California</td>\n",
       "      <td>M</td>\n",
       "      <td>Beige</td>\n",
       "      <td>Spring</td>\n",
       "      <td>3.1</td>\n",
       "      <td>No</td>\n",
       "      <td>Store Pickup</td>\n",
       "      <td>True</td>\n",
       "      <td>33</td>\n",
       "      <td>Venmo</td>\n",
       "      <td>Quarterly</td>\n",
       "      <td>46-55</td>\n",
       "    </tr>\n",
       "  </tbody>\n",
       "</table>\n",
       "<p>3900 rows × 18 columns</p>\n",
       "</div>"
      ],
      "text/plain": [
       "      Customer ID  Age  Gender Item Purchased     Category  \\\n",
       "0               1   55    Male         Blouse     Clothing   \n",
       "1               2   19    Male        Sweater     Clothing   \n",
       "2               3   50    Male          Jeans     Clothing   \n",
       "3               4   21    Male        Sandals     Footwear   \n",
       "4               5   45    Male         Blouse     Clothing   \n",
       "...           ...  ...     ...            ...          ...   \n",
       "3895         3896   40  Female         Hoodie     Clothing   \n",
       "3896         3897   52  Female       Backpack  Accessories   \n",
       "3897         3898   46  Female           Belt  Accessories   \n",
       "3898         3899   44  Female          Shoes     Footwear   \n",
       "3899         3900   52  Female        Handbag  Accessories   \n",
       "\n",
       "      Purchase Amount (USD)       Location Size      Color  Season  \\\n",
       "0                        53       Kentucky    L       Gray  Winter   \n",
       "1                        64          Maine    L     Maroon  Winter   \n",
       "2                        73  Massachusetts    S     Maroon  Spring   \n",
       "3                        90   Rhode Island    M     Maroon  Spring   \n",
       "4                        49         Oregon    M  Turquoise  Spring   \n",
       "...                     ...            ...  ...        ...     ...   \n",
       "3895                     28       Virginia    L  Turquoise  Summer   \n",
       "3896                     49           Iowa    L      White  Spring   \n",
       "3897                     33     New Jersey    L      Green  Spring   \n",
       "3898                     77      Minnesota    S      Brown  Summer   \n",
       "3899                     81     California    M      Beige  Spring   \n",
       "\n",
       "      Review Rating Subscription Status   Shipping Type  Discount Applied  \\\n",
       "0               3.1                 Yes         Express              True   \n",
       "1               3.1                 Yes         Express              True   \n",
       "2               3.1                 Yes   Free Shipping              True   \n",
       "3               3.5                 Yes    Next Day Air              True   \n",
       "4               2.7                 Yes   Free Shipping              True   \n",
       "...             ...                 ...             ...               ...   \n",
       "3895            4.2                  No  2-Day Shipping              True   \n",
       "3896            4.5                  No    Store Pickup              True   \n",
       "3897            2.9                  No        Standard              True   \n",
       "3898            3.8                  No         Express              True   \n",
       "3899            3.1                  No    Store Pickup              True   \n",
       "\n",
       "      Previous Purchases Payment Method Frequency of Purchases Age Group  \n",
       "0                     14          Venmo              Bi-Weekly     46-55  \n",
       "1                      2           Cash              Bi-Weekly     18-25  \n",
       "2                     23    Credit Card                 Weekly     46-55  \n",
       "3                     49         PayPal                 Weekly     18-25  \n",
       "4                     31         PayPal               Annually     36-45  \n",
       "...                  ...            ...                    ...       ...  \n",
       "3895                  32          Venmo                 Weekly     36-45  \n",
       "3896                  41  Bank Transfer              Bi-Weekly     46-55  \n",
       "3897                  24          Venmo              Quarterly     46-55  \n",
       "3898                  24          Venmo                 Weekly     36-45  \n",
       "3899                  33          Venmo              Quarterly     46-55  \n",
       "\n",
       "[3900 rows x 18 columns]"
      ]
     },
     "execution_count": 16,
     "metadata": {},
     "output_type": "execute_result"
    }
   ],
   "source": [
    "df\n"
   ]
  },
  {
   "cell_type": "markdown",
   "id": "9c764f43-5689-432e-9cda-1bb1a17a2b15",
   "metadata": {},
   "source": [
    "### Spending level segmentation"
   ]
  },
  {
   "cell_type": "markdown",
   "id": "b0fb8b27-d4e2-498c-bc95-9ca3d73ce31c",
   "metadata": {},
   "source": [
    "Spending Level: We classify customers by Purchase Amount (USD) into tiers (e.g. “Low”, “Medium”, “High”). We use the 33rd and 66th percentiles to split roughly into three equal groups.\n",
    "\n",
    "Each level contains about one-third of the customers, facilitating comparison by spending tier."
   ]
  },
  {
   "cell_type": "code",
   "execution_count": 17,
   "id": "28f5f35f-ea0d-4707-a060-4193d385234b",
   "metadata": {},
   "outputs": [
    {
     "data": {
      "text/plain": [
       "Spending Level\n",
       "Medium    1303\n",
       "Low       1300\n",
       "High      1297\n",
       "Name: count, dtype: int64"
      ]
     },
     "execution_count": 17,
     "metadata": {},
     "output_type": "execute_result"
    }
   ],
   "source": [
    "thresholds = [0, df['Purchase Amount (USD)'].quantile(0.33),\n",
    "             df['Purchase Amount (USD)'].quantile(0.66),\n",
    "             df['Purchase Amount (USD)'].max()]\n",
    "\n",
    "labels = ['Low', 'Medium', 'High']\n",
    "df['Spending Level']= pd.cut(df['Purchase Amount (USD)'], labels = labels, bins = thresholds, include_lowest= True)\n",
    "\n",
    "df['Spending Level'].value_counts()"
   ]
  },
  {
   "cell_type": "markdown",
   "id": "7ccc06a4-bbe8-4612-b2be-3de0fb8c08a8",
   "metadata": {},
   "source": [
    "    "
   ]
  },
  {
   "cell_type": "markdown",
   "id": "45311db7-7c3e-45c9-9b32-6b2efa2110f7",
   "metadata": {},
   "source": [
    "### Loyalty Segmentation\n",
    "\n",
    "Based on Previous Purchases, we define new customers vs frequent shoppers. For example, categorize customers with 1–10 past purchases as “New”, 11–30 as “Occasional”, and 31+ as “Frequent”. This aligns with segmenting by purchase frequency.\n"
   ]
  },
  {
   "cell_type": "code",
   "execution_count": 18,
   "id": "40fb82e1-799e-491b-8635-0ab3f2fd5221",
   "metadata": {},
   "outputs": [
    {
     "data": {
      "text/plain": [
       "Loyalty Segment\n",
       "Occassional    1567\n",
       "Frequent       1549\n",
       "New             784\n",
       "Name: count, dtype: int64"
      ]
     },
     "execution_count": 18,
     "metadata": {},
     "output_type": "execute_result"
    }
   ],
   "source": [
    "loyalty_bins= [0, 10, 30, 100]\n",
    "df['Loyalty Segment']= pd.cut(df['Previous Purchases'], bins= loyalty_bins,\n",
    "labels=['New', 'Occassional', 'Frequent'],\n",
    "include_lowest= True)\n",
    "\n",
    "df['Loyalty Segment'].value_counts()\n",
    "\n"
   ]
  },
  {
   "cell_type": "markdown",
   "id": "ef3c46af-28ac-4fb5-9f52-336b67a1130a",
   "metadata": {},
   "source": [
    "   "
   ]
  },
  {
   "cell_type": "markdown",
   "id": "fc0bc289-02d1-4a23-88f2-15c1f25ad1f0",
   "metadata": {},
   "source": [
    "   "
   ]
  },
  {
   "cell_type": "markdown",
   "id": "d931235d-e62a-4b81-a186-8b860e6c0710",
   "metadata": {},
   "source": [
    "## Exploratory Data Analysis (EDA)"
   ]
  },
  {
   "cell_type": "markdown",
   "id": "1521a0af-ee03-4117-a06e-f9ea587bc857",
   "metadata": {},
   "source": [
    "### Age Distribution"
   ]
  },
  {
   "cell_type": "code",
   "execution_count": 19,
   "id": "0aff0374-0778-40f8-8758-ae05c9a6e89e",
   "metadata": {},
   "outputs": [
    {
     "data": {
      "text/plain": [
       "count    3900.000000\n",
       "mean       44.068462\n",
       "std        15.207589\n",
       "min        18.000000\n",
       "25%        31.000000\n",
       "50%        44.000000\n",
       "75%        57.000000\n",
       "max        70.000000\n",
       "Name: Age, dtype: float64"
      ]
     },
     "execution_count": 19,
     "metadata": {},
     "output_type": "execute_result"
    }
   ],
   "source": [
    "df['Age'].describe()"
   ]
  },
  {
   "cell_type": "code",
   "execution_count": 44,
   "id": "01d6806f-89a4-46fb-be9b-9d625d39a735",
   "metadata": {},
   "outputs": [
    {
     "data": {
      "image/png": "[encoded data removed]",
      "text/plain": [
       "<Figure size 1000x500 with 1 Axes>"
      ]
     },
     "metadata": {},
     "output_type": "display_data"
    }
   ],
   "source": [
    "plt.figure(figsize= (10,5))\n",
    "df['Age'].plot(kind= 'hist');"
   ]
  },
  {
   "cell_type": "markdown",
   "id": "7fe73e35-932e-47e9-9101-27a972cd6abc",
   "metadata": {},
   "source": [
    "## Purchase Amount (USD)"
   ]
  },
  {
   "cell_type": "code",
   "execution_count": 21,
   "id": "5fbe66e3-a07b-48b6-937b-ac9abf10416e",
   "metadata": {},
   "outputs": [
    {
     "data": {
      "text/plain": [
       "count    3900.000000\n",
       "mean       59.764359\n",
       "std        23.685392\n",
       "min        20.000000\n",
       "25%        39.000000\n",
       "50%        60.000000\n",
       "75%        81.000000\n",
       "max       100.000000\n",
       "Name: Purchase Amount (USD), dtype: float64"
      ]
     },
     "execution_count": 21,
     "metadata": {},
     "output_type": "execute_result"
    }
   ],
   "source": [
    "df['Purchase Amount (USD)'].describe()"
   ]
  },
  {
   "cell_type": "markdown",
   "id": "adff484c-0d58-4322-9f11-f68e332be701",
   "metadata": {},
   "source": [
    "   "
   ]
  },
  {
   "cell_type": "markdown",
   "id": "309ea7e8-ffff-4242-abab-b936da178f32",
   "metadata": {},
   "source": [
    "## Review Rating"
   ]
  },
  {
   "cell_type": "code",
   "execution_count": 22,
   "id": "9d176b6f-faea-46fb-9199-5bebff54e5df",
   "metadata": {},
   "outputs": [
    {
     "data": {
      "text/plain": [
       "count    3900.000000\n",
       "mean        3.749949\n",
       "std         0.716223\n",
       "min         2.500000\n",
       "25%         3.100000\n",
       "50%         3.700000\n",
       "75%         4.400000\n",
       "max         5.000000\n",
       "Name: Review Rating, dtype: float64"
      ]
     },
     "execution_count": 22,
     "metadata": {},
     "output_type": "execute_result"
    }
   ],
   "source": [
    "df['Review Rating'].describe()"
   ]
  },
  {
   "cell_type": "code",
   "execution_count": 23,
   "id": "5fb376af-f1fb-4fa4-9ea4-b67b9737bf0b",
   "metadata": {},
   "outputs": [
    {
     "data": {
      "text/plain": [
       "<Axes: ylabel='Frequency'>"
      ]
     },
     "execution_count": 23,
     "metadata": {},
     "output_type": "execute_result"
    },
    {
     "data": {
      "image/png": "[encoded data removed]",
      "text/plain": [
       "<Figure size 640x480 with 1 Axes>"
      ]
     },
     "metadata": {},
     "output_type": "display_data"
    }
   ],
   "source": [
    "df['Review Rating'].plot(kind='hist')"
   ]
  },
  {
   "cell_type": "markdown",
   "id": "da18abe0-bec9-44f0-848f-d1531e20f567",
   "metadata": {},
   "source": [
    "## Previous Purchases"
   ]
  },
  {
   "cell_type": "code",
   "execution_count": 24,
   "id": "cad2d763-299a-4b35-9ac3-1c37ff0a95f2",
   "metadata": {},
   "outputs": [
    {
     "data": {
      "text/plain": [
       "count    3900.000000\n",
       "mean       25.351538\n",
       "std        14.447125\n",
       "min         1.000000\n",
       "25%        13.000000\n",
       "50%        25.000000\n",
       "75%        38.000000\n",
       "max        50.000000\n",
       "Name: Previous Purchases, dtype: float64"
      ]
     },
     "execution_count": 24,
     "metadata": {},
     "output_type": "execute_result"
    }
   ],
   "source": [
    "df['Previous Purchases'].describe()"
   ]
  },
  {
   "cell_type": "markdown",
   "id": "2c803bea-1124-4b68-86d2-340a6e294686",
   "metadata": {},
   "source": [
    "## Categorical Variables: We check frequencies."
   ]
  },
  {
   "cell_type": "markdown",
   "id": "e760c746-01a2-4e30-a696-2b93dd2ad27b",
   "metadata": {},
   "source": [
    "### gender"
   ]
  },
  {
   "cell_type": "code",
   "execution_count": 25,
   "id": "d7efff4f-b758-4eab-9a6a-d13e3fd4f742",
   "metadata": {},
   "outputs": [
    {
     "data": {
      "text/plain": [
       "Gender\n",
       "Male      2652\n",
       "Female    1248\n",
       "Name: count, dtype: int64"
      ]
     },
     "execution_count": 25,
     "metadata": {},
     "output_type": "execute_result"
    }
   ],
   "source": [
    "df['Gender'].value_counts()\n"
   ]
  },
  {
   "cell_type": "markdown",
   "id": "b9db0a97-c2b6-4080-9c8d-a62046a1d85a",
   "metadata": {},
   "source": [
    "### Category"
   ]
  },
  {
   "cell_type": "code",
   "execution_count": 26,
   "id": "bce5ac67-16b9-4f31-b55c-815ecea408f1",
   "metadata": {},
   "outputs": [
    {
     "data": {
      "text/plain": [
       "Category\n",
       "Clothing       1737\n",
       "Accessories    1240\n",
       "Footwear        599\n",
       "Outerwear       324\n",
       "Name: count, dtype: int64"
      ]
     },
     "execution_count": 26,
     "metadata": {},
     "output_type": "execute_result"
    }
   ],
   "source": [
    "df['Category'].value_counts()\n"
   ]
  },
  {
   "cell_type": "markdown",
   "id": "f2c1156c-ace5-47b4-a373-e55f320c5f86",
   "metadata": {},
   "source": [
    "### Season"
   ]
  },
  {
   "cell_type": "code",
   "execution_count": 27,
   "id": "6760dbda-a0f0-4880-9e4e-37e50d16d701",
   "metadata": {},
   "outputs": [
    {
     "data": {
      "text/plain": [
       "Season\n",
       "Spring    999\n",
       "Fall      975\n",
       "Winter    971\n",
       "Summer    955\n",
       "Name: count, dtype: int64"
      ]
     },
     "execution_count": 27,
     "metadata": {},
     "output_type": "execute_result"
    }
   ],
   "source": [
    "df['Season'].value_counts()\n"
   ]
  },
  {
   "cell_type": "markdown",
   "id": "c2d55ba4-f45b-4777-aab7-71be9dc20588",
   "metadata": {},
   "source": [
    "### Payment Method"
   ]
  },
  {
   "cell_type": "code",
   "execution_count": 28,
   "id": "0a126e81-8211-43d0-a9ef-fd8496ea1c1c",
   "metadata": {},
   "outputs": [
    {
     "data": {
      "text/plain": [
       "Payment Method\n",
       "PayPal           677\n",
       "Credit Card      671\n",
       "Cash             670\n",
       "Debit Card       636\n",
       "Venmo            634\n",
       "Bank Transfer    612\n",
       "Name: count, dtype: int64"
      ]
     },
     "execution_count": 28,
     "metadata": {},
     "output_type": "execute_result"
    }
   ],
   "source": [
    "df['Payment Method'].value_counts()\n"
   ]
  },
  {
   "cell_type": "markdown",
   "id": "7264b306-3a93-4f6a-8fbb-8cac1628ec2a",
   "metadata": {},
   "source": [
    "### Shipping Type"
   ]
  },
  {
   "cell_type": "code",
   "execution_count": 29,
   "id": "404202b9-084e-4d96-adbe-a3a5ba0c22e3",
   "metadata": {},
   "outputs": [
    {
     "data": {
      "text/plain": [
       "Shipping Type\n",
       "Free Shipping     675\n",
       "Standard          654\n",
       "Store Pickup      650\n",
       "Next Day Air      648\n",
       "Express           646\n",
       "2-Day Shipping    627\n",
       "Name: count, dtype: int64"
      ]
     },
     "execution_count": 29,
     "metadata": {},
     "output_type": "execute_result"
    }
   ],
   "source": [
    "df['Shipping Type'].value_counts()\n"
   ]
  },
  {
   "cell_type": "markdown",
   "id": "059fd983-74a9-415f-8175-64340f3cf70a",
   "metadata": {},
   "source": [
    "### Frequency of purchases"
   ]
  },
  {
   "cell_type": "code",
   "execution_count": 30,
   "id": "e0d2efca-dc11-4b7a-89bc-353824e3ee56",
   "metadata": {},
   "outputs": [
    {
     "data": {
      "text/plain": [
       "Frequency of Purchases\n",
       "Quarterly    1147\n",
       "Bi-Weekly    1089\n",
       "Annually      572\n",
       "Monthly       553\n",
       "Weekly        539\n",
       "Name: count, dtype: int64"
      ]
     },
     "execution_count": 30,
     "metadata": {},
     "output_type": "execute_result"
    }
   ],
   "source": [
    "df['Frequency of Purchases'].value_counts()\n"
   ]
  },
  {
   "cell_type": "markdown",
   "id": "bdb3f2ca-eb40-42ba-b020-bea351508b19",
   "metadata": {},
   "source": [
    "## Bivariate Analysis"
   ]
  },
  {
   "cell_type": "markdown",
   "id": "47635417-80f7-4636-aa1f-61a68142e619",
   "metadata": {},
   "source": [
    "### Purchase Amount vs Gender"
   ]
  },
  {
   "cell_type": "markdown",
   "id": "e7b011dd-3159-43f4-b095-3c18773ded49",
   "metadata": {},
   "source": [
    "Females mean 60.25, Males mean 59.54 (medians both 60.00). There is only a slight difference female purchases are on average about $0.7 higher. In essence, spending is similar across genders."
   ]
  },
  {
   "cell_type": "code",
   "execution_count": 31,
   "id": "3046e8c5-b6a9-4562-ad04-33c9e60a0ffb",
   "metadata": {},
   "outputs": [
    {
     "data": {
      "text/html": [
       "<div>\n",
       "<style scoped>\n",
       "    .dataframe tbody tr th:only-of-type {\n",
       "        vertical-align: middle;\n",
       "    }\n",
       "\n",
       "    .dataframe tbody tr th {\n",
       "        vertical-align: top;\n",
       "    }\n",
       "\n",
       "    .dataframe thead th {\n",
       "        text-align: right;\n",
       "    }\n",
       "</style>\n",
       "<table border=\"1\" class=\"dataframe\">\n",
       "  <thead>\n",
       "    <tr style=\"text-align: right;\">\n",
       "      <th></th>\n",
       "      <th>mean</th>\n",
       "      <th>median</th>\n",
       "    </tr>\n",
       "    <tr>\n",
       "      <th>Gender</th>\n",
       "      <th></th>\n",
       "      <th></th>\n",
       "    </tr>\n",
       "  </thead>\n",
       "  <tbody>\n",
       "    <tr>\n",
       "      <th>Female</th>\n",
       "      <td>60.249199</td>\n",
       "      <td>60.0</td>\n",
       "    </tr>\n",
       "    <tr>\n",
       "      <th>Male</th>\n",
       "      <td>59.536199</td>\n",
       "      <td>60.0</td>\n",
       "    </tr>\n",
       "  </tbody>\n",
       "</table>\n",
       "</div>"
      ],
      "text/plain": [
       "             mean  median\n",
       "Gender                   \n",
       "Female  60.249199    60.0\n",
       "Male    59.536199    60.0"
      ]
     },
     "execution_count": 31,
     "metadata": {},
     "output_type": "execute_result"
    }
   ],
   "source": [
    "df.groupby('Gender')['Purchase Amount (USD)'].agg(['mean', 'median'])"
   ]
  },
  {
   "cell_type": "markdown",
   "id": "5eb3afc5-7f97-481d-8063-f3ebc81e3ae6",
   "metadata": {},
   "source": [
    "### Purchase Amount vs Age Group"
   ]
  },
  {
   "cell_type": "markdown",
   "id": "37f2328b-309b-468c-acd2-01b3b2cf73f0",
   "metadata": {},
   "source": [
    "The youngest group (18–25) spends 60.65 on average; middle ages (26–55) around 59–60; seniors (66+) about 58.88. No dramatic trend, though the youngest and mid-40s appear slightly higher spenders. Middle age groups (35–45, 56–65) spend around 59.3. Spending is fairly consistent across ages."
   ]
  },
  {
   "cell_type": "code",
   "execution_count": 32,
   "id": "0170aca6-c12e-436b-95ad-e1e8dac26baf",
   "metadata": {},
   "outputs": [
    {
     "data": {
      "text/plain": [
       "Age Group\n",
       "18-25    60.65\n",
       "26-35    59.76\n",
       "36-45    59.31\n",
       "46-55    60.58\n",
       "56-65    59.14\n",
       "66+      58.88\n",
       "Name: Purchase Amount (USD), dtype: float64"
      ]
     },
     "execution_count": 32,
     "metadata": {},
     "output_type": "execute_result"
    }
   ],
   "source": [
    "df.groupby('Age Group', observed= True)['Purchase Amount (USD)'].mean().round(2)"
   ]
  },
  {
   "cell_type": "markdown",
   "id": "5ac745d3-d54b-4fff-860b-f669cbf37806",
   "metadata": {},
   "source": [
    "### Purchase Amount vs Category"
   ]
  },
  {
   "cell_type": "markdown",
   "id": "428e1f40-9f49-4ca0-8fc2-089203da80c6",
   "metadata": {},
   "source": [
    "Outerwear (mean 57.17) is somewhat lower than Clothing/Accessories/Footwear (60.0–60.3). This could reflect Outerwear items being lower-priced in this dataset. Possibly because many inexpensive items are flagged as Outerwear (or due to season promotions). Median values show a similar pattern"
   ]
  },
  {
   "cell_type": "code",
   "execution_count": 33,
   "id": "465543e1-3ac3-48db-a9c4-a9ae80533cda",
   "metadata": {},
   "outputs": [
    {
     "data": {
      "text/plain": [
       "Category\n",
       "Accessories    60.0\n",
       "Clothing       60.0\n",
       "Footwear       60.0\n",
       "Outerwear      54.5\n",
       "Name: Purchase Amount (USD), dtype: float64"
      ]
     },
     "execution_count": 33,
     "metadata": {},
     "output_type": "execute_result"
    }
   ],
   "source": [
    "df.groupby('Category')['Purchase Amount (USD)'].mean().round(2)\n",
    "df.groupby('Category')['Purchase Amount (USD)'].median()"
   ]
  },
  {
   "cell_type": "markdown",
   "id": "3303b826-6e54-44ce-9628-bf528a846994",
   "metadata": {},
   "source": [
    "### Review Rating vs Payment Method"
   ]
  },
  {
   "cell_type": "markdown",
   "id": "551271f8-8d29-45cf-a7c5-f5c241da8c2d",
   "metadata": {},
   "source": [
    "Credit Card users give the highest average rating (3.783). Bank Transfer users rate lowest (3.702). Other methods (Cash, Debit, PayPal, Venmo) are intermediate (3.75). Differences are small (<0.08 difference), but we note that credit-card customers are slightly more satisfied on average."
   ]
  },
  {
   "cell_type": "code",
   "execution_count": 34,
   "id": "6f2c4099-6ca2-4c26-b74c-f4f7da963a5b",
   "metadata": {},
   "outputs": [
    {
     "data": {
      "text/plain": [
       "Payment Method\n",
       "Bank Transfer    3.702\n",
       "Cash             3.750\n",
       "Credit Card      3.783\n",
       "Debit Card       3.760\n",
       "PayPal           3.750\n",
       "Venmo            3.752\n",
       "Name: Review Rating, dtype: float64"
      ]
     },
     "execution_count": 34,
     "metadata": {},
     "output_type": "execute_result"
    }
   ],
   "source": [
    "df.groupby('Payment Method')['Review Rating'].mean().round(3)"
   ]
  },
  {
   "cell_type": "markdown",
   "id": "14fe9e53-98e0-4fb1-be60-c1ceb8bb96dd",
   "metadata": {},
   "source": [
    "### Age Group vs Frequency of Purchases"
   ]
  },
  {
   "cell_type": "markdown",
   "id": "e3eb6d58-2de1-4004-980e-b18d9a197d04",
   "metadata": {},
   "source": [
    "Younger customers (18–25) have a higher proportion buying Weekly/Bi-Weekly compared to older groups. For example, 18–25 group has 12% weekly, 13% bi-weekly. whereas seniors (66+) have 9% weekly, 10% bi-weekly. Older groups have relatively more yearly/quarterly. This suggests younger customers shop more frequently."
   ]
  },
  {
   "cell_type": "code",
   "execution_count": 35,
   "id": "9f7a51c3-6104-4f66-9b76-be5f38f6a626",
   "metadata": {},
   "outputs": [],
   "source": [
    "freq_table= pd.crosstab(df['Age Group'], df['Frequency of Purchases'], normalize= 'index')*100"
   ]
  },
  {
   "cell_type": "code",
   "execution_count": 36,
   "id": "cce7c44f-3a0e-4535-a7cf-fb2ce2d8c3fb",
   "metadata": {},
   "outputs": [
    {
     "data": {
      "text/html": [
       "<div>\n",
       "<style scoped>\n",
       "    .dataframe tbody tr th:only-of-type {\n",
       "        vertical-align: middle;\n",
       "    }\n",
       "\n",
       "    .dataframe tbody tr th {\n",
       "        vertical-align: top;\n",
       "    }\n",
       "\n",
       "    .dataframe thead th {\n",
       "        text-align: right;\n",
       "    }\n",
       "</style>\n",
       "<table border=\"1\" class=\"dataframe\">\n",
       "  <thead>\n",
       "    <tr style=\"text-align: right;\">\n",
       "      <th>Frequency of Purchases</th>\n",
       "      <th>Annually</th>\n",
       "      <th>Bi-Weekly</th>\n",
       "      <th>Monthly</th>\n",
       "      <th>Quarterly</th>\n",
       "      <th>Weekly</th>\n",
       "    </tr>\n",
       "    <tr>\n",
       "      <th>Age Group</th>\n",
       "      <th></th>\n",
       "      <th></th>\n",
       "      <th></th>\n",
       "      <th></th>\n",
       "      <th></th>\n",
       "    </tr>\n",
       "  </thead>\n",
       "  <tbody>\n",
       "    <tr>\n",
       "      <th>18-25</th>\n",
       "      <td>16.46</td>\n",
       "      <td>28.55</td>\n",
       "      <td>12.43</td>\n",
       "      <td>30.12</td>\n",
       "      <td>12.43</td>\n",
       "    </tr>\n",
       "    <tr>\n",
       "      <th>26-35</th>\n",
       "      <td>11.73</td>\n",
       "      <td>30.46</td>\n",
       "      <td>14.69</td>\n",
       "      <td>29.92</td>\n",
       "      <td>13.21</td>\n",
       "    </tr>\n",
       "    <tr>\n",
       "      <th>36-45</th>\n",
       "      <td>15.78</td>\n",
       "      <td>26.75</td>\n",
       "      <td>15.23</td>\n",
       "      <td>27.57</td>\n",
       "      <td>14.68</td>\n",
       "    </tr>\n",
       "    <tr>\n",
       "      <th>46-55</th>\n",
       "      <td>11.82</td>\n",
       "      <td>28.95</td>\n",
       "      <td>14.61</td>\n",
       "      <td>30.28</td>\n",
       "      <td>14.34</td>\n",
       "    </tr>\n",
       "    <tr>\n",
       "      <th>56-65</th>\n",
       "      <td>18.27</td>\n",
       "      <td>26.53</td>\n",
       "      <td>13.07</td>\n",
       "      <td>27.73</td>\n",
       "      <td>14.40</td>\n",
       "    </tr>\n",
       "    <tr>\n",
       "      <th>66+</th>\n",
       "      <td>14.08</td>\n",
       "      <td>24.79</td>\n",
       "      <td>15.21</td>\n",
       "      <td>32.68</td>\n",
       "      <td>13.24</td>\n",
       "    </tr>\n",
       "  </tbody>\n",
       "</table>\n",
       "</div>"
      ],
      "text/plain": [
       "Frequency of Purchases  Annually  Bi-Weekly  Monthly  Quarterly  Weekly\n",
       "Age Group                                                              \n",
       "18-25                      16.46      28.55    12.43      30.12   12.43\n",
       "26-35                      11.73      30.46    14.69      29.92   13.21\n",
       "36-45                      15.78      26.75    15.23      27.57   14.68\n",
       "46-55                      11.82      28.95    14.61      30.28   14.34\n",
       "56-65                      18.27      26.53    13.07      27.73   14.40\n",
       "66+                        14.08      24.79    15.21      32.68   13.24"
      ]
     },
     "execution_count": 36,
     "metadata": {},
     "output_type": "execute_result"
    }
   ],
   "source": [
    "freq_table.round(2)"
   ]
  },
  {
   "cell_type": "markdown",
   "id": "87f7cd92-4f9a-445e-bcaa-f44b5991274a",
   "metadata": {},
   "source": [
    "   "
   ]
  },
  {
   "cell_type": "markdown",
   "id": "cc944778-a6d3-4218-8e5a-8d6cf6ee4ffa",
   "metadata": {},
   "source": [
    "### Season and Gender vs Spending - average spending by season and gender"
   ]
  },
  {
   "cell_type": "markdown",
   "id": "fd528009-9e1c-4498-a3f8-25b9519bac4e",
   "metadata": {},
   "source": [
    "Both genders spend more in Fall (61.55) and Winter (60.25) vs Spring (58.75). In Summer, females spend about 60.60, males 57.41, a notable gap. Fall spending is highest and nearly identical for both sexes (61.55). Spring is lowest (around 58.7)"
   ]
  },
  {
   "cell_type": "code",
   "execution_count": 37,
   "id": "50233347-57fd-4a8e-8ada-f4aee9848b68",
   "metadata": {},
   "outputs": [
    {
     "data": {
      "text/html": [
       "<div>\n",
       "<style scoped>\n",
       "    .dataframe tbody tr th:only-of-type {\n",
       "        vertical-align: middle;\n",
       "    }\n",
       "\n",
       "    .dataframe tbody tr th {\n",
       "        vertical-align: top;\n",
       "    }\n",
       "\n",
       "    .dataframe thead th {\n",
       "        text-align: right;\n",
       "    }\n",
       "</style>\n",
       "<table border=\"1\" class=\"dataframe\">\n",
       "  <thead>\n",
       "    <tr style=\"text-align: right;\">\n",
       "      <th>Gender</th>\n",
       "      <th>Female</th>\n",
       "      <th>Male</th>\n",
       "    </tr>\n",
       "    <tr>\n",
       "      <th>Season</th>\n",
       "      <th></th>\n",
       "      <th></th>\n",
       "    </tr>\n",
       "  </thead>\n",
       "  <tbody>\n",
       "    <tr>\n",
       "      <th>Fall</th>\n",
       "      <td>61.56</td>\n",
       "      <td>61.55</td>\n",
       "    </tr>\n",
       "    <tr>\n",
       "      <th>Spring</th>\n",
       "      <td>58.79</td>\n",
       "      <td>58.71</td>\n",
       "    </tr>\n",
       "    <tr>\n",
       "      <th>Summer</th>\n",
       "      <td>60.60</td>\n",
       "      <td>57.41</td>\n",
       "    </tr>\n",
       "    <tr>\n",
       "      <th>Winter</th>\n",
       "      <td>60.00</td>\n",
       "      <td>60.52</td>\n",
       "    </tr>\n",
       "  </tbody>\n",
       "</table>\n",
       "</div>"
      ],
      "text/plain": [
       "Gender  Female   Male\n",
       "Season               \n",
       "Fall     61.56  61.55\n",
       "Spring   58.79  58.71\n",
       "Summer   60.60  57.41\n",
       "Winter   60.00  60.52"
      ]
     },
     "execution_count": 37,
     "metadata": {},
     "output_type": "execute_result"
    }
   ],
   "source": [
    "pd.pivot_table(df, index='Season', columns='Gender', \n",
    "               values='Purchase Amount (USD)', aggfunc='mean').round(2)\n"
   ]
  },
  {
   "cell_type": "markdown",
   "id": "756fd647-6c7d-40a3-a4bc-22def2396542",
   "metadata": {},
   "source": [
    "### Category vs Season - briefly checking how categories distribute by season"
   ]
  },
  {
   "cell_type": "markdown",
   "id": "af5dea0c-f6f3-43db-8575-3ef5cc1048ca",
   "metadata": {},
   "source": [
    "Outerwear purchases are fairly evenly spread across seasons, but a slight increase is seen in Fall (27%), possibly due to cooler weather. Summer shows the lowest share (23%), suggesting less demand for Outerwear during hotter months."
   ]
  },
  {
   "cell_type": "code",
   "execution_count": 38,
   "id": "cdc3782d-f3e0-4866-9fb1-8573c7a1359a",
   "metadata": {},
   "outputs": [
    {
     "data": {
      "text/plain": [
       "Season\n",
       "Fall      0.271605\n",
       "Spring    0.250000\n",
       "Winter    0.246914\n",
       "Summer    0.231481\n",
       "Name: proportion, dtype: float64"
      ]
     },
     "execution_count": 38,
     "metadata": {},
     "output_type": "execute_result"
    }
   ],
   "source": [
    "df[df['Category']=='Outerwear']['Season'].value_counts(normalize=True)\n"
   ]
  },
  {
   "cell_type": "code",
   "execution_count": 39,
   "id": "88ec0fe4-f2ee-4631-845a-f733cfcc3fd7",
   "metadata": {},
   "outputs": [
    {
     "data": {
      "image/png": "[encoded data removed]",
      "text/plain": [
       "<Figure size 640x480 with 1 Axes>"
      ]
     },
     "metadata": {},
     "output_type": "display_data"
    }
   ],
   "source": [
    "\n",
    "outerwear_season = df[df['Category']=='Outerwear']['Season'].value_counts(normalize=True)\n",
    "\n",
    "outerwear_season.plot(kind='bar', color=['#FFB347','#77DD77','#AEC6CF','#CBAACB'], edgecolor='black')\n",
    "\n",
    "plt.title(\"Outerwear Purchases by Season (Proportion)\", fontsize=14)\n",
    "plt.ylabel(\"Proportion\", fontsize=12)\n",
    "plt.xlabel(\"Season\", fontsize=12)\n",
    "plt.xticks(rotation=0)\n",
    "plt.show()\n"
   ]
  },
  {
   "cell_type": "markdown",
   "id": "c9d8e3c2-ea7f-4c77-b212-4cb3cf2b68d7",
   "metadata": {},
   "source": [
    "      "
   ]
  },
  {
   "cell_type": "markdown",
   "id": "463b81ac-2594-4278-a858-b62155d9ccee",
   "metadata": {},
   "source": [
    "## Visualisation"
   ]
  },
  {
   "cell_type": "code",
   "execution_count": 40,
   "id": "caa216e3-f692-42a0-84cd-5127c12fdeec",
   "metadata": {},
   "outputs": [
    {
     "data": {
      "image/png": "[encoded data removed]",
      "text/plain": [
       "<Figure size 600x400 with 1 Axes>"
      ]
     },
     "metadata": {},
     "output_type": "display_data"
    }
   ],
   "source": [
    "# Example: Histogram of Age\n",
    "plt.figure(figsize=(6,4))\n",
    "sns.histplot(df['Age'], bins=15, kde=False)\n",
    "plt.title('Age Distribution')\n",
    "plt.xlabel('Age')\n",
    "plt.ylabel('Count')\n",
    "plt.show()"
   ]
  },
  {
   "cell_type": "code",
   "execution_count": 41,
   "id": "61275e6e-7705-47f0-b47f-711b9b8a78cf",
   "metadata": {},
   "outputs": [
    {
     "data": {
      "image/png": "[encoded data removed]",
      "text/plain": [
       "<Figure size 700x500 with 1 Axes>"
      ]
     },
     "metadata": {},
     "output_type": "display_data"
    }
   ],
   "source": [
    "# Boxplot: Purchase Amount by Category\n",
    "plt.figure(figsize=(7,5))\n",
    "sns.boxplot(x='Category', y='Purchase Amount (USD)', data=df)\n",
    "plt.title('Purchase Amount by Category')\n",
    "plt.xticks(rotation=15)\n",
    "plt.show()"
   ]
  },
  {
   "cell_type": "code",
   "execution_count": 42,
   "id": "ce49b21a-ddb2-4f60-b8ae-46750eb008ba",
   "metadata": {},
   "outputs": [
    {
     "data": {
      "image/png": "[encoded data removed]",
      "text/plain": [
       "<Figure size 600x400 with 1 Axes>"
      ]
     },
     "metadata": {},
     "output_type": "display_data"
    }
   ],
   "source": [
    "# Barplot: Average Review Rating by Payment Method\n",
    "plt.figure(figsize=(6,4))\n",
    "sns.barplot(x='Payment Method', y='Review Rating', data=df, estimator=lambda x: x.mean())\n",
    "plt.title('Average Review Rating by Payment Method')\n",
    "plt.xticks(rotation=30)\n",
    "plt.ylabel('Mean Rating')\n",
    "plt.show()"
   ]
  },
  {
   "cell_type": "code",
   "execution_count": 43,
   "id": "53608b7b-b81e-4a85-8c58-681331d8390a",
   "metadata": {},
   "outputs": [
    {
     "data": {
      "image/png": "[encoded data removed]",
      "text/plain": [
       "<Figure size 640x480 with 2 Axes>"
      ]
     },
     "metadata": {},
     "output_type": "display_data"
    }
   ],
   "source": [
    "# Heatmap: Mean Purchase Amount by Season and Gender\n",
    "pivot = pd.pivot_table(df, index='Season', columns='Gender', values='Purchase Amount (USD)', aggfunc='mean')\n",
    "sns.heatmap(pivot, annot=True, fmt=\".1f\", cmap='YlGnBu')\n",
    "plt.title('Mean Purchase Amount (USD) by Season and Gender')\n",
    "plt.show()"
   ]
  },
  {
   "cell_type": "code",
   "execution_count": null,
   "id": "fd96ba1e-b584-44fa-a4a2-285cd7ae3436",
   "metadata": {},
   "outputs": [],
   "source": []
  }
 ],
 "metadata": {
  "kernelspec": {
   "display_name": "Python [conda env:base] *",
   "language": "python",
   "name": "conda-base-py"
  },
  "language_info": {
   "codemirror_mode": {
    "name": "ipython",
    "version": 3
   },
   "file_extension": ".py",
   "mimetype": "text/x-python",
   "name": "python",
   "nbconvert_exporter": "python",
   "pygments_lexer": "ipython3",
   "version": "3.13.5"
  }
 },
 "nbformat": 4,
 "nbformat_minor": 5
}
